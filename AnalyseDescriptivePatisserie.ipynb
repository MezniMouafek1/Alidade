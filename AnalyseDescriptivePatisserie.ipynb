{
 "cells": [
  {
   "cell_type": "code",
   "execution_count": 1,
   "metadata": {},
   "outputs": [],
   "source": [
    "# Ici charger les modules essentiels pour réaliser une analyse\n",
    "\n",
    "## biblioteque pour charger les données numériques\n",
    "import numpy as np \n",
    "## biblioteque pour charger les fichiers et panel data méme les requetes sql\n",
    "import pandas as pd\n",
    "import matplotlib.pyplot as plt"
   ]
  },
  {
   "cell_type": "code",
   "execution_count": 2,
   "metadata": {},
   "outputs": [],
   "source": [
    "data=pd.read_csv(\"PatisserieIN.csv\",sep=\";\")"
   ]
  },
  {
   "cell_type": "code",
   "execution_count": 3,
   "metadata": {},
   "outputs": [
    {
     "data": {
      "text/html": [
       "<div>\n",
       "<style scoped>\n",
       "    .dataframe tbody tr th:only-of-type {\n",
       "        vertical-align: middle;\n",
       "    }\n",
       "\n",
       "    .dataframe tbody tr th {\n",
       "        vertical-align: top;\n",
       "    }\n",
       "\n",
       "    .dataframe thead th {\n",
       "        text-align: right;\n",
       "    }\n",
       "</style>\n",
       "<table border=\"1\" class=\"dataframe\">\n",
       "  <thead>\n",
       "    <tr style=\"text-align: right;\">\n",
       "      <th></th>\n",
       "      <th>Année</th>\n",
       "      <th>Trimestre</th>\n",
       "      <th>Mois</th>\n",
       "      <th>Région</th>\n",
       "      <th>Gouvernorat</th>\n",
       "      <th>Délégation</th>\n",
       "      <th>Canal</th>\n",
       "      <th>Catégorie</th>\n",
       "      <th>Famille</th>\n",
       "      <th>Sous-Famille</th>\n",
       "      <th>...</th>\n",
       "      <th>DV Produit Gouvernorat</th>\n",
       "      <th>DV Référence Gouvernorat</th>\n",
       "      <th>DV Marque Délégation</th>\n",
       "      <th>DV Produit Délégation</th>\n",
       "      <th>DV Référence Délégation</th>\n",
       "      <th>Présence en Unités</th>\n",
       "      <th>Présence en Valeur</th>\n",
       "      <th>Visibilité</th>\n",
       "      <th>Part de visibilité</th>\n",
       "      <th>Prix Moyen</th>\n",
       "    </tr>\n",
       "  </thead>\n",
       "  <tbody>\n",
       "    <tr>\n",
       "      <th>0</th>\n",
       "      <td>2017</td>\n",
       "      <td>2017-1</td>\n",
       "      <td>2017-01</td>\n",
       "      <td>Nord Ouest</td>\n",
       "      <td>Siliana</td>\n",
       "      <td>El Krib</td>\n",
       "      <td>Superette</td>\n",
       "      <td>EPICERIE</td>\n",
       "      <td>Epicerie sucrée</td>\n",
       "      <td>Patisserie Industrielle</td>\n",
       "      <td>...</td>\n",
       "      <td>0.0</td>\n",
       "      <td>0.0</td>\n",
       "      <td>0.0</td>\n",
       "      <td>0.0</td>\n",
       "      <td>0.0</td>\n",
       "      <td>0.0</td>\n",
       "      <td>0.0</td>\n",
       "      <td>0.0</td>\n",
       "      <td>0.0</td>\n",
       "      <td>NaN</td>\n",
       "    </tr>\n",
       "    <tr>\n",
       "      <th>1</th>\n",
       "      <td>2017</td>\n",
       "      <td>2017-1</td>\n",
       "      <td>2017-01</td>\n",
       "      <td>Nord Ouest</td>\n",
       "      <td>Siliana</td>\n",
       "      <td>Bourouis</td>\n",
       "      <td>Superette</td>\n",
       "      <td>EPICERIE</td>\n",
       "      <td>Epicerie sucrée</td>\n",
       "      <td>Patisserie Industrielle</td>\n",
       "      <td>...</td>\n",
       "      <td>0.0</td>\n",
       "      <td>0.0</td>\n",
       "      <td>0.0</td>\n",
       "      <td>0.0</td>\n",
       "      <td>0.0</td>\n",
       "      <td>0.0</td>\n",
       "      <td>0.0</td>\n",
       "      <td>0.0</td>\n",
       "      <td>0.0</td>\n",
       "      <td>NaN</td>\n",
       "    </tr>\n",
       "    <tr>\n",
       "      <th>2</th>\n",
       "      <td>2017</td>\n",
       "      <td>2017-1</td>\n",
       "      <td>2017-01</td>\n",
       "      <td>Nord Ouest</td>\n",
       "      <td>Siliana</td>\n",
       "      <td>Bargou</td>\n",
       "      <td>Superette</td>\n",
       "      <td>EPICERIE</td>\n",
       "      <td>Epicerie sucrée</td>\n",
       "      <td>Patisserie Industrielle</td>\n",
       "      <td>...</td>\n",
       "      <td>0.0</td>\n",
       "      <td>0.0</td>\n",
       "      <td>0.0</td>\n",
       "      <td>0.0</td>\n",
       "      <td>0.0</td>\n",
       "      <td>0.0</td>\n",
       "      <td>0.0</td>\n",
       "      <td>0.0</td>\n",
       "      <td>0.0</td>\n",
       "      <td>NaN</td>\n",
       "    </tr>\n",
       "    <tr>\n",
       "      <th>3</th>\n",
       "      <td>2017</td>\n",
       "      <td>2017-1</td>\n",
       "      <td>2017-01</td>\n",
       "      <td>Sud Est</td>\n",
       "      <td>Gabes</td>\n",
       "      <td>Gabes Ouest</td>\n",
       "      <td>Superette</td>\n",
       "      <td>EPICERIE</td>\n",
       "      <td>Epicerie sucrée</td>\n",
       "      <td>Patisserie Industrielle</td>\n",
       "      <td>...</td>\n",
       "      <td>0.0</td>\n",
       "      <td>0.0</td>\n",
       "      <td>0.0</td>\n",
       "      <td>0.0</td>\n",
       "      <td>0.0</td>\n",
       "      <td>0.0</td>\n",
       "      <td>0.0</td>\n",
       "      <td>0.0</td>\n",
       "      <td>0.0</td>\n",
       "      <td>NaN</td>\n",
       "    </tr>\n",
       "    <tr>\n",
       "      <th>4</th>\n",
       "      <td>2017</td>\n",
       "      <td>2017-1</td>\n",
       "      <td>2017-01</td>\n",
       "      <td>Sud Est</td>\n",
       "      <td>Gabes</td>\n",
       "      <td>Gabes Sud</td>\n",
       "      <td>Superette</td>\n",
       "      <td>EPICERIE</td>\n",
       "      <td>Epicerie sucrée</td>\n",
       "      <td>Patisserie Industrielle</td>\n",
       "      <td>...</td>\n",
       "      <td>0.0</td>\n",
       "      <td>0.0</td>\n",
       "      <td>0.0</td>\n",
       "      <td>0.0</td>\n",
       "      <td>0.0</td>\n",
       "      <td>0.0</td>\n",
       "      <td>0.0</td>\n",
       "      <td>0.0</td>\n",
       "      <td>0.0</td>\n",
       "      <td>NaN</td>\n",
       "    </tr>\n",
       "  </tbody>\n",
       "</table>\n",
       "<p>5 rows × 47 columns</p>\n",
       "</div>"
      ],
      "text/plain": [
       "   Année Trimestre     Mois      Région Gouvernorat   Délégation      Canal  \\\n",
       "0   2017    2017-1  2017-01  Nord Ouest     Siliana      El Krib  Superette   \n",
       "1   2017    2017-1  2017-01  Nord Ouest     Siliana     Bourouis  Superette   \n",
       "2   2017    2017-1  2017-01  Nord Ouest     Siliana       Bargou  Superette   \n",
       "3   2017    2017-1  2017-01     Sud Est       Gabes  Gabes Ouest  Superette   \n",
       "4   2017    2017-1  2017-01     Sud Est       Gabes    Gabes Sud  Superette   \n",
       "\n",
       "  Catégorie          Famille             Sous-Famille     ...      \\\n",
       "0  EPICERIE  Epicerie sucrée  Patisserie Industrielle     ...       \n",
       "1  EPICERIE  Epicerie sucrée  Patisserie Industrielle     ...       \n",
       "2  EPICERIE  Epicerie sucrée  Patisserie Industrielle     ...       \n",
       "3  EPICERIE  Epicerie sucrée  Patisserie Industrielle     ...       \n",
       "4  EPICERIE  Epicerie sucrée  Patisserie Industrielle     ...       \n",
       "\n",
       "  DV Produit Gouvernorat DV Référence Gouvernorat DV Marque Délégation  \\\n",
       "0                    0.0                      0.0                  0.0   \n",
       "1                    0.0                      0.0                  0.0   \n",
       "2                    0.0                      0.0                  0.0   \n",
       "3                    0.0                      0.0                  0.0   \n",
       "4                    0.0                      0.0                  0.0   \n",
       "\n",
       "  DV Produit Délégation  DV Référence Délégation  Présence en Unités  \\\n",
       "0                   0.0                      0.0                 0.0   \n",
       "1                   0.0                      0.0                 0.0   \n",
       "2                   0.0                      0.0                 0.0   \n",
       "3                   0.0                      0.0                 0.0   \n",
       "4                   0.0                      0.0                 0.0   \n",
       "\n",
       "   Présence en Valeur  Visibilité  Part de visibilité  Prix Moyen  \n",
       "0                 0.0         0.0                 0.0         NaN  \n",
       "1                 0.0         0.0                 0.0         NaN  \n",
       "2                 0.0         0.0                 0.0         NaN  \n",
       "3                 0.0         0.0                 0.0         NaN  \n",
       "4                 0.0         0.0                 0.0         NaN  \n",
       "\n",
       "[5 rows x 47 columns]"
      ]
     },
     "execution_count": 3,
     "metadata": {},
     "output_type": "execute_result"
    }
   ],
   "source": [
    "data.head()"
   ]
  },
  {
   "cell_type": "code",
   "execution_count": 4,
   "metadata": {},
   "outputs": [],
   "source": [
    "data = data.dropna()"
   ]
  },
  {
   "cell_type": "code",
   "execution_count": 5,
   "metadata": {},
   "outputs": [
    {
     "data": {
      "text/plain": [
       "array([[9.45874002e-01, 9.69724771e-01, 8.71559633e-01, ...,\n",
       "        5.34300000e+02, 1.23300000e+01, 1.88485900e-04],\n",
       "       [9.45874002e-01, 9.69724771e-01, 6.67889908e-01, ...,\n",
       "        3.23662500e+02, 8.22000000e+00, 1.25657300e-04],\n",
       "       [9.45874002e-01, 9.69724771e-01, 8.82568807e-01, ...,\n",
       "        1.43850000e+02, 4.11000000e+00, 6.28286000e-05],\n",
       "       ...,\n",
       "       [9.74937343e-01, 2.59445844e-01, 2.16624685e-01, ...,\n",
       "        1.82954545e+02, 4.39090909e+00, 2.28828900e-04],\n",
       "       [9.74937343e-01, 9.72292191e-01, 7.17884131e-01, ...,\n",
       "        3.11022727e+02, 8.78181818e+00, 4.57657800e-04],\n",
       "       [9.02255639e-01, 7.45591940e-01, 7.45591940e-01, ...,\n",
       "        3.40295455e+02, 8.78181818e+00, 4.57657800e-04]])"
      ]
     },
     "execution_count": 5,
     "metadata": {},
     "output_type": "execute_result"
    }
   ],
   "source": [
    "# Est ce qu'il est nécessaire de réduire et de center les données?\n",
    "# Expliquer le rôle de cette étape\n",
    "x = data.iloc[:,14:46].values\n",
    "x"
   ]
  },
  {
   "cell_type": "code",
   "execution_count": 6,
   "metadata": {},
   "outputs": [],
   "source": [
    "# Diviser les données en deux lots \n",
    "# (un lot d'entrainement 80% et un lot de test 20%)\n",
    "# Applying PCA\n",
    "# scioentific kit for machine learning\n",
    "from sklearn.model_selection import train_test_split\n",
    "# Splitting the dataset into the Training set and Test set\n",
    "X_train,X_test= train_test_split(x, test_size= 0.1, random_state= 0)"
   ]
  },
  {
   "cell_type": "markdown",
   "metadata": {},
   "source": [
    "## Application PCA"
   ]
  },
  {
   "cell_type": "code",
   "execution_count": 9,
   "metadata": {},
   "outputs": [],
   "source": [
    "# Center et réduire les données\n",
    "from sklearn.decomposition import PCA\n",
    "pca = PCA(n_components = 2)\n",
    "X_train = pca.fit_transform(X_train)\n",
    "X_test = pca.transform(X_test)\n",
    "explained_variance = pca.explained_variance_ratio_\n"
   ]
  },
  {
   "cell_type": "code",
   "execution_count": 10,
   "metadata": {},
   "outputs": [
    {
     "data": {
      "text/plain": [
       "array([[ 1150.6509043 ,    59.40279264],\n",
       "       [  367.13711054,    46.79248136],\n",
       "       [  979.0887696 ,    56.65107049],\n",
       "       ...,\n",
       "       [-1009.27986082,  -342.85826809],\n",
       "       [ -871.12922018,   145.52569623],\n",
       "       [ -617.86816418,   -24.23199853]])"
      ]
     },
     "execution_count": 10,
     "metadata": {},
     "output_type": "execute_result"
    }
   ],
   "source": [
    "X_test."
   ]
  },
  {
   "cell_type": "code",
   "execution_count": 41,
   "metadata": {},
   "outputs": [
    {
     "data": {
      "text/plain": [
       "(5622, 2)"
      ]
     },
     "execution_count": 41,
     "metadata": {},
     "output_type": "execute_result"
    }
   ],
   "source": [
    "X_test.shape"
   ]
  },
  {
   "cell_type": "code",
   "execution_count": 12,
   "metadata": {},
   "outputs": [
    {
     "data": {
      "text/plain": [
       "array([0.97751634, 0.02246393])"
      ]
     },
     "execution_count": 12,
     "metadata": {},
     "output_type": "execute_result"
    }
   ],
   "source": [
    "explained_variance"
   ]
  },
  {
   "cell_type": "code",
   "execution_count": 13,
   "metadata": {},
   "outputs": [
    {
     "data": {
      "image/png": "[encoded data removed]",
      "text/plain": [
       "<Figure size 432x288 with 1 Axes>"
      ]
     },
     "metadata": {
      "needs_background": "light"
     },
     "output_type": "display_data"
    }
   ],
   "source": [
    "plt.scatter(X_test[:,0],X_test[:,1],color=\"red\")\n",
    "plt.show()"
   ]
  },
  {
   "cell_type": "markdown",
   "metadata": {},
   "source": [
    "## KMEANS"
   ]
  },
  {
   "cell_type": "code",
   "execution_count": 14,
   "metadata": {},
   "outputs": [],
   "source": [
    "from sklearn.cluster import KMeans"
   ]
  },
  {
   "cell_type": "code",
   "execution_count": 15,
   "metadata": {},
   "outputs": [],
   "source": [
    "notre_premier_model = KMeans(n_clusters=5)"
   ]
  },
  {
   "cell_type": "code",
   "execution_count": 16,
   "metadata": {},
   "outputs": [
    {
     "data": {
      "text/plain": [
       "KMeans(algorithm='auto', copy_x=True, init='k-means++', max_iter=300,\n",
       "    n_clusters=5, n_init=10, n_jobs=None, precompute_distances='auto',\n",
       "    random_state=None, tol=0.0001, verbose=0)"
      ]
     },
     "execution_count": 16,
     "metadata": {},
     "output_type": "execute_result"
    }
   ],
   "source": [
    "notre_premier_model"
   ]
  },
  {
   "cell_type": "code",
   "execution_count": 17,
   "metadata": {},
   "outputs": [],
   "source": [
    "notre_premier_model = KMeans(n_clusters = 5, init = 'k-means++', random_state = 42)"
   ]
  },
  {
   "cell_type": "code",
   "execution_count": 18,
   "metadata": {},
   "outputs": [
    {
     "data": {
      "text/plain": [
       "KMeans(algorithm='auto', copy_x=True, init='k-means++', max_iter=300,\n",
       "    n_clusters=7, n_init=10, n_jobs=None, precompute_distances='auto',\n",
       "    random_state=42, tol=0.0001, verbose=0)"
      ]
     },
     "execution_count": 18,
     "metadata": {},
     "output_type": "execute_result"
    }
   ],
   "source": [
    "notre_premier_model.fit(X_train)"
   ]
  },
  {
   "cell_type": "code",
   "execution_count": 19,
   "metadata": {},
   "outputs": [],
   "source": [
    "y_kmeans=notre_premier_model.predict(X_test)"
   ]
  },
  {
   "cell_type": "code",
   "execution_count": 20,
   "metadata": {},
   "outputs": [
    {
     "data": {
      "text/plain": [
       "array([2, 3, 2, ..., 0, 0, 0])"
      ]
     },
     "execution_count": 20,
     "metadata": {},
     "output_type": "execute_result"
    }
   ],
   "source": [
    "y_kmeans"
   ]
  },
  {
   "cell_type": "code",
   "execution_count": 22,
   "metadata": {},
   "outputs": [
    {
     "data": {
      "image/png": "[encoded data removed]",
      "text/plain": [
       "<Figure size 432x288 with 1 Axes>"
      ]
     },
     "metadata": {
      "needs_background": "light"
     },
     "output_type": "display_data"
    }
   ],
   "source": [
    "from sklearn.cluster import KMeans\n",
    "# Using the elbow method to find the optimal number of clusters\n",
    "### Here import kmeans\n",
    "\n",
    "wcss = []\n",
    "for i in range(1, 11):\n",
    "    kmeans = KMeans(n_clusters = i, init = 'k-means++', random_state = 42)\n",
    "    kmeans.fit(x)\n",
    "    wcss.append(kmeans.inertia_)\n",
    "plt.plot(range(1, 11), wcss)\n",
    "plt.title(\"the Elbow Method\")\n",
    "plt.xlabel(\"Number of clusters\")\n",
    "plt.ylabel(\"WCSS\")\n",
    "plt.show()\n",
    "# add a title 'The Elbow Method'\n",
    "#  add a label on x axis 'Number of clusters'\n",
    "#  add a label on y axis 'WCSS'"
   ]
  },
  {
   "cell_type": "code",
   "execution_count": 37,
   "metadata": {},
   "outputs": [
    {
     "data": {
      "text/plain": [
       "<matplotlib.collections.PathCollection at 0x24f9fe21518>"
      ]
     },
     "execution_count": 37,
     "metadata": {},
     "output_type": "execute_result"
    },
    {
     "data": {
      "image/png": "[encoded data removed]",
      "text/plain": [
       "<Figure size 432x288 with 1 Axes>"
      ]
     },
     "metadata": {
      "needs_background": "light"
     },
     "output_type": "display_data"
    }
   ],
   "source": [
    "plt.scatter(X_test[y_kmeans == 0, 0], X_test[y_kmeans == 0, 1], s = 100, c = 'red', label = 'Cluster 1')\n",
    "plt.scatter(X_test[y_kmeans == 1, 0], X_test[y_kmeans == 1, 1], s = 100, c = 'blue', label = 'Cluster 2')\n"
   ]
  },
  {
   "cell_type": "markdown",
   "metadata": {},
   "source": [
    "# ACH"
   ]
  },
  {
   "cell_type": "code",
   "execution_count": 25,
   "metadata": {},
   "outputs": [],
   "source": [
    "from sklearn.preprocessing import StandardScaler"
   ]
  },
  {
   "cell_type": "code",
   "execution_count": 26,
   "metadata": {},
   "outputs": [
    {
     "data": {
      "image/png": "[encoded data removed]",
      "text/plain": [
       "<Figure size 432x288 with 1 Axes>"
      ]
     },
     "metadata": {
      "needs_background": "light"
     },
     "output_type": "display_data"
    }
   ],
   "source": [
    "# Using the dendrogram to find the optimal number of clusters\n",
    "# we use ward method\n",
    "import scipy.cluster.hierarchy as sch\n",
    "dendrogram = sch.dendrogram(sch.linkage(X_test, method = 'ward'))\n",
    "plt.show()"
   ]
  },
  {
   "cell_type": "code",
   "execution_count": 39,
   "metadata": {},
   "outputs": [],
   "source": [
    "# Fitting Hierarchical Clustering \n",
    "# here you specify the number of clusters 2, 3, 5,\n",
    "from sklearn.cluster import AgglomerativeClustering\n",
    "hc = AgglomerativeClustering(n_clusters = 3, affinity = 'euclidean', linkage = 'ward')\n",
    "y_hc = hc.fit_predict(X_test)"
   ]
  },
  {
   "cell_type": "code",
   "execution_count": 40,
   "metadata": {},
   "outputs": [
    {
     "data": {
      "image/png": "[encoded data removed]",
      "text/plain": [
       "<Figure size 432x288 with 1 Axes>"
      ]
     },
     "metadata": {
      "needs_background": "light"
     },
     "output_type": "display_data"
    }
   ],
   "source": [
    "plt.scatter(X_test[y_hc == 0, 0], X_test[y_hc == 0, 1], s = 100, c = 'red', label = 'Cluster 1')\n",
    "plt.scatter(X_test[y_hc == 1, 0], X_test[y_hc == 1, 1], s = 100, c = 'blue', label = 'Cluster 2')\n",
    "plt.show()"
   ]
  },
  {
   "cell_type": "code",
   "execution_count": null,
   "metadata": {},
   "outputs": [],
   "source": []
  }
 ],
 "metadata": {
  "kernelspec": {
   "display_name": "Python 3",
   "language": "python",
   "name": "python3"
  },
  "language_info": {
   "codemirror_mode": {
    "name": "ipython",
    "version": 3
   },
   "file_extension": ".py",
   "mimetype": "text/x-python",
   "name": "python",
   "nbconvert_exporter": "python",
   "pygments_lexer": "ipython3",
   "version": "3.7.1"
  }
 },
 "nbformat": 4,
 "nbformat_minor": 2
}
